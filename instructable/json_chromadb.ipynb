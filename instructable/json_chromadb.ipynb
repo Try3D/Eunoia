{
 "cells": [
  {
   "cell_type": "code",
   "execution_count": 2,
   "id": "3a946083-3c8c-4e8e-87af-800d403efc73",
   "metadata": {},
   "outputs": [
    {
     "name": "stdout",
     "output_type": "stream",
     "text": [
      "All materials stored in ChromaDB successfully!\n"
     ]
    }
   ],
   "source": [
    "import json\n",
    "import os\n",
    "import chromadb\n",
    "\n",
    "# Initialize ChromaDB client\n",
    "chroma_client = chromadb.PersistentClient(path=\"./chroma_db\")  # Persistent storage\n",
    "\n",
    "# Create a collection for storing materials\n",
    "collection = chroma_client.get_or_create_collection(name=\"materials\")\n",
    "\n",
    "# Folder containing 800 JSON files\n",
    "json_folder = \"/Users/raghavsridharan/Downloads/Archive 2\"\n",
    "\n",
    "# Load JSON files and store in ChromaDB\n",
    "for filename in os.listdir(json_folder):\n",
    "    if filename.endswith(\".json\"):\n",
    "        file_path = os.path.join(json_folder, filename)\n",
    "\n",
    "        with open(file_path, \"r\", encoding=\"utf-8\") as f:\n",
    "            try:\n",
    "                data = json.load(f)\n",
    "\n",
    "                if isinstance(data, dict):\n",
    "                    materials = data.get(\"materials_required\", [])\n",
    "                else:\n",
    "                    materials = []\n",
    "                \n",
    "                if materials:\n",
    "                    doc_id = filename\n",
    "                    text_content = \", \".join(materials) \n",
    "                    \n",
    "                    collection.add(\n",
    "                        ids=[doc_id],\n",
    "                        documents=[text_content],\n",
    "                        metadatas=[{\"filename\": filename}]\n",
    "                    )\n",
    "            except json.JSONDecodeError:\n",
    "                print(f\"Skipping invalid JSON file: {filename}\")\n",
    "\n",
    "print(\"All materials stored in ChromaDB successfully!\")"
   ]
  },
  {
   "cell_type": "code",
   "execution_count": null,
   "id": "73a08009-3142-40b0-89ce-b9d8542cc065",
   "metadata": {},
   "outputs": [],
   "source": []
  }
 ],
 "metadata": {
  "kernelspec": {
   "display_name": "venv",
   "language": "python",
   "name": "python3"
  },
  "language_info": {
   "codemirror_mode": {
    "name": "ipython",
    "version": 3
   },
   "file_extension": ".py",
   "mimetype": "text/x-python",
   "name": "python",
   "nbconvert_exporter": "python",
   "pygments_lexer": "ipython3",
   "version": "3.9.6"
  }
 },
 "nbformat": 4,
 "nbformat_minor": 5
}
